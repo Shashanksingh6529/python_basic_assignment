{
 "cells": [
  {
   "cell_type": "markdown",
   "id": "88bee868-6164-4465-88cd-85ed68045da2",
   "metadata": {},
   "source": [
    "Q1. Conventions for declaring a variable in Python include:"
   ]
  },
  {
   "cell_type": "code",
   "execution_count": 1,
   "id": "0be15ea3-07ab-46be-b3e4-cc39fcf674ef",
   "metadata": {},
   "outputs": [
    {
     "data": {
      "text/plain": [
       "\"Variable names should start with a letter (a-z, A-Z) or an underscore (_) followed by letters, digits (0-9), or underscores.\\nVariable names are case-sensitive.\\nVariable names cannot be a Python keyword or reserved word.\\nVariable names should be descriptive, indicating the purpose or content of the variable.\\nIt's common to use lowercase letters for variable names and underscores to separate words in a multi-word variable name (snake_case).\""
      ]
     },
     "execution_count": 1,
     "metadata": {},
     "output_type": "execute_result"
    }
   ],
   "source": [
    "'''Variable names should start with a letter (a-z, A-Z) or an underscore (_) followed by letters, digits (0-9), or underscores.\n",
    "Variable names are case-sensitive.\n",
    "Variable names cannot be a Python keyword or reserved word.\n",
    "Variable names should be descriptive, indicating the purpose or content of the variable.\n",
    "It's common to use lowercase letters for variable names and underscores to separate words in a multi-word variable name (snake_case).'''"
   ]
  },
  {
   "cell_type": "markdown",
   "id": "73d97941-d904-4f87-b35e-44c88adde95f",
   "metadata": {},
   "source": [
    "Q2. If you attempt to declare a variable using a restricted keyword in Python, you'll encounter a syntax error. "
   ]
  },
  {
   "cell_type": "code",
   "execution_count": 2,
   "id": "d050f0bb-774e-48b9-952d-f2b69d06af71",
   "metadata": {},
   "outputs": [
    {
     "data": {
      "text/plain": [
       "\"Python will not allow you to use keywords like if, else, for, while, etc., as variable names because these are reserved for specific purposes within the language's syntax.\""
      ]
     },
     "execution_count": 2,
     "metadata": {},
     "output_type": "execute_result"
    }
   ],
   "source": [
    "'''Python will not allow you to use keywords like if, else, for, while, etc., as variable names because these are reserved for specific purposes within the language's syntax.'''"
   ]
  },
  {
   "cell_type": "markdown",
   "id": "0832e49a-26eb-4202-baa3-732ce61e5e8a",
   "metadata": {},
   "source": [
    "Q3. Yes, you can declare a string as a variable name in Python. However, it's generally not recommended as it can lead to confusion and make your code less readable. For example:"
   ]
  },
  {
   "cell_type": "code",
   "execution_count": 3,
   "id": "48d4290f-706d-4417-8657-50098b793844",
   "metadata": {},
   "outputs": [],
   "source": [
    "my_var = \"Hello, World!\""
   ]
  },
  {
   "cell_type": "markdown",
   "id": "0be0b366-d597-43c2-8f29-1c2fff8f665a",
   "metadata": {},
   "source": [
    "Q4. Yes, you can declare a variable using _ (underscore) as the variable name. It's commonly used as a placeholder variable name when you want to ignore the specific value. For example:"
   ]
  },
  {
   "cell_type": "code",
   "execution_count": null,
   "id": "bc1b6363-07c4-4c0d-a453-370139e92ca7",
   "metadata": {},
   "outputs": [],
   "source": [
    "_ = 10"
   ]
  },
  {
   "cell_type": "markdown",
   "id": "cb36cb4d-9dd2-458b-a095-80093e274385",
   "metadata": {},
   "source": [
    "Q5. Python variables are dynamic in nature, meaning you can assign a value of any data type to a variable without declaring the variable's type explicitly. For example:"
   ]
  },
  {
   "cell_type": "code",
   "execution_count": 1,
   "id": "4c045b73-706e-4285-8a68-70e78294dd46",
   "metadata": {},
   "outputs": [],
   "source": [
    "x = 10  # x is an integer\n",
    "x = \"Hello\"  # Now x is a string\n",
    "x = [1, 2, 3]  # Now x is a list"
   ]
  },
  {
   "cell_type": "code",
   "execution_count": null,
   "id": "9760f0f0-7689-4f59-81a2-804fc3089569",
   "metadata": {},
   "outputs": [],
   "source": []
  }
 ],
 "metadata": {
  "kernelspec": {
   "display_name": "Python 3 (ipykernel)",
   "language": "python",
   "name": "python3"
  },
  "language_info": {
   "codemirror_mode": {
    "name": "ipython",
    "version": 3
   },
   "file_extension": ".py",
   "mimetype": "text/x-python",
   "name": "python",
   "nbconvert_exporter": "python",
   "pygments_lexer": "ipython3",
   "version": "3.10.8"
  }
 },
 "nbformat": 4,
 "nbformat_minor": 5
}
